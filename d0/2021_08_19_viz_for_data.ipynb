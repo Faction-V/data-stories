{
 "cells": [
  {
   "cell_type": "code",
   "execution_count": null,
   "id": "aab31bf3-f7d4-4bef-9002-bedf8fe8eaaa",
   "metadata": {},
   "outputs": [],
   "source": [
    "import pandas as pd\n",
    "import numpy as np\n",
    "import os\n",
    "from datetime import datetime as dt\n",
    "import geopandas as gpd           # importing geopandas\n",
    "from toolz import thread_first\n",
    "import squarify\n",
    "import matplotlib\n",
    "import matplotlib.pyplot as plt\n",
    "%matplotlib inline\n",
    "pd.options.display.max_columns=100\n",
    "pd.options.display.width = 200\n",
    "\n",
    "bycounty = pd.read_csv('output/county_level.csv')\n",
    "bycountytime = pd.read_csv('output/county_time_level.csv')\n",
    "bystate = pd.read_csv('output/state_level.csv')\n",
    "counties = gpd.read_file('/Users/lpanda/Downloads/cb_2020_us_county_500k/cb_2020_us_county_500k.shx')\n",
    "merged_map_df = counties.merge(bycounty, how='left', left_on='NAMELSAD', right_on='COUNTY').query(\"STUSPS == 'WV'\")\n",
    "merged_map_df['PATIENT_CT'].fillna(0, inplace=True)"
   ]
  },
  {
   "cell_type": "code",
   "execution_count": null,
   "id": "a89d810a-910e-4cba-aadc-c2853520c693",
   "metadata": {},
   "outputs": [],
   "source": [
    "merged_map_df[['COUNTY', 'PATIENT_CT', 'OPIOID_DX_RATE', 'ACTIVE_BEACON_PAST_YEAR_PCT']].sort_values('OPIOID_DX_RATE', ascending=False).reset_index(drop=True).head(10)"
   ]
  },
  {
   "cell_type": "code",
   "execution_count": null,
   "id": "fb503d38-aef3-4829-a9d5-da03fe448079",
   "metadata": {},
   "outputs": [],
   "source": [
    "diff.sort_values('OPIOID_DX_RATE', ascending=False)\\\n",
    "[['COUNTY', 'OPIOID_DX_RATE', 'DIFF']].head(10)"
   ]
  },
  {
   "cell_type": "code",
   "execution_count": null,
   "id": "e5bf4ba7-5738-4a6f-9842-645a8665e707",
   "metadata": {},
   "outputs": [],
   "source": [
    "fig, ax = plt.subplots(1,3, figsize=(30, 10))\n",
    "# plt[0].title('SUDS Diagnosis Member Share by County in WV', size=16)\n",
    "merged_map_df.plot(column='OPIOID_DX_RATE',\n",
    "                   cmap='Greens',      # Colormap for the states                     \n",
    "                   linewidth=0.4,      # line width for state borders\n",
    "                   ax=ax[0],              # plotting the map on 'ax'\n",
    "                   edgecolor='black', legend=True)\n",
    "\n",
    "merged_map_df.plot(column='OPIOID_DX_PRIOR',\n",
    "                   cmap='Blues',      # Colormap for the states                     \n",
    "                   linewidth=0.4,      # line width for state borders\n",
    "                   ax=ax[1],              # plotting the map on 'ax'\n",
    "                   edgecolor='black', legend=True)\n",
    "\n",
    "diff = merged_map_df.assign(DIFF = lambda x: x['OPIOID_DX_RATE'] - x['OPIOID_DX_PRIOR'])\\\n",
    ".sort_values('DIFF', ascending=False)\\\n",
    "[['COUNTY', 'geometry', 'OPIOID_DX_PRIOR', 'OPIOID_DX_RATE', 'ACTIVE_BEACON_PAST_YEAR_PCT', 'DIFF']]\n",
    "\n",
    "diff.plot(column='DIFF',\n",
    "                   cmap='Greys',      # Colormap for the states                     \n",
    "                   linewidth=0.4,      # line width for state borders\n",
    "                   ax=ax[2],              # plotting the map on 'ax'\n",
    "                   edgecolor='black', legend=True)"
   ]
  },
  {
   "cell_type": "code",
   "execution_count": null,
   "id": "79af44e4-e23a-4d46-9041-90f72c9529dc",
   "metadata": {},
   "outputs": [],
   "source": [
    "pd.options.display.float_format = '{:,.2f}'.format\n",
    "merged_map_df.mean(numeric_only=True)"
   ]
  },
  {
   "cell_type": "code",
   "execution_count": null,
   "id": "d17a42dd-b70f-47c8-8845-6667bf04a3d1",
   "metadata": {},
   "outputs": [],
   "source": [
    "fig, ax = plt.subplots(1,2, figsize=(30, 10))\n",
    "# plt[0].title('SUDS Diagnosis Member Share by County in WV', size=16)\n",
    "merged_map_df.plot(column='OPIOID_DX_RATE',\n",
    "                   cmap='Greens',      # Colormap for the states                     \n",
    "                   linewidth=0.4,      # line width for state borders\n",
    "                   ax=ax[0],              # plotting the map on 'ax'\n",
    "                   edgecolor='black', legend=True)\n",
    "\n",
    "merged_map_df.plot(column='ACTIVE_BEACON_PAST_YEAR_PCT',\n",
    "                   cmap='Blues',      # Colormap for the states                     \n",
    "                   linewidth=0.4,      # line width for state borders\n",
    "                   ax=ax[1],              # plotting the map on 'ax'\n",
    "                   edgecolor='black', legend=True)"
   ]
  },
  {
   "cell_type": "code",
   "execution_count": null,
   "id": "08ec9a92-9170-4f31-8ba0-fb8e84671b4c",
   "metadata": {},
   "outputs": [],
   "source": [
    "fig, ax = plt.subplots(1,1, figsize=(30, 10))\n",
    "# plt[0].title('SUDS Diagnosis Member Share by County in WV', size=16)\n",
    "merged_map_df.plot(column='OPIOID_RX_RATE',\n",
    "                   cmap='Reds',      # Colormap for the states                     \n",
    "                   linewidth=0.4,      # line width for state borders\n",
    "                   ax=ax,              # plotting the map on 'ax'\n",
    "                   edgecolor='black', legend=True)"
   ]
  },
  {
   "cell_type": "code",
   "execution_count": null,
   "id": "584c5205-815a-4ad4-a632-42e8e7c39e62",
   "metadata": {},
   "outputs": [],
   "source": [
    "bycounty.mean().to_frame().reset_index().query(\"index.str.contains('AGE')\").sum()"
   ]
  },
  {
   "cell_type": "code",
   "execution_count": null,
   "id": "66519e77-014a-4031-9a08-ac09973ff6da",
   "metadata": {},
   "outputs": [],
   "source": [
    "bycountytime.plot(figsize=(10,6), ylabel='$ Million Annual Spend on Hospitalizations', x='YEAR')"
   ]
  },
  {
   "cell_type": "code",
   "execution_count": null,
   "id": "c98d06cd-3ea5-4e9f-a24b-42e486c575d0",
   "metadata": {},
   "outputs": [],
   "source": [
    "print(7249-3580)\n",
    "pd.DataFrame({\n",
    "    'WITHOUT_BEACON': [7249],\n",
    "    'WITH_BEACON': [3580],\n",
    "}).T.reset_index().plot(kind='bar', x='index', width=0.4, edgecolor='white', linewidth=20, figsize=(10,8), color='purple', legend=False, rot=0, xlabel='', ylabel='Avg PMPY')"
   ]
  },
  {
   "cell_type": "code",
   "execution_count": null,
   "id": "91812cad-1973-41ab-963b-cae05db75fdf",
   "metadata": {},
   "outputs": [],
   "source": [
    "3580*179000*0.6"
   ]
  },
  {
   "cell_type": "code",
   "execution_count": null,
   "id": "50820c5c-e14d-4a02-bc20-e367488cfb28",
   "metadata": {},
   "outputs": [],
   "source": [
    "pd.DataFrame({\n",
    "    'PROVIDER': [],\n",
    "    'NETWORK_STATUS': [],\n",
    "    'OPIOID_RX_RATE'\n",
    "})"
   ]
  },
  {
   "cell_type": "code",
   "execution_count": null,
   "id": "37482abe-3e7d-40b9-9b09-6d0d1eeb07d8",
   "metadata": {},
   "outputs": [],
   "source": [
    "test = bystate.mean().to_frame().reset_index()\n",
    "test = test.loc[test['index'].str.contains('AGE') & (test[0] > 0.01)].rename(columns={'index': 'AGE_GP', 0: 'PCT'})\n",
    "test['LABEL'] = test['AGE_GP'] + ' - ' + (test['PCT']*100).round(1).astype(str) + '%'\n",
    "test"
   ]
  },
  {
   "cell_type": "code",
   "execution_count": null,
   "id": "96d5ada4-3f83-4a25-a7a3-f12a7575aa15",
   "metadata": {},
   "outputs": [],
   "source": [
    "fig, ax = plt.subplots(1,1, figsize=(10, 8))\n",
    "cmap = matplotlib.cm.Blues\n",
    "mini=test['PCT'].min()\n",
    "maxi=test['PCT'].max()\n",
    "norm = matplotlib.colors.Normalize(vmin=mini, vmax=maxi)\n",
    "colors = [cmap(norm(value)) for value in test['PCT']]\n",
    "squarify.plot(sizes=test['PCT'],label=test['LABEL'], alpha=.8, color=colors, ax=ax)\n",
    "plt.axis('off')\n",
    "plt.show()"
   ]
  },
  {
   "cell_type": "code",
   "execution_count": null,
   "id": "71063969-d2cc-4f86-9537-dc2c8102a134",
   "metadata": {},
   "outputs": [],
   "source": [
    "test = bystate.mean().to_frame().reset_index()\n",
    "test = test.loc[test['index'].str.contains('SEX') & (test[0] > 0.01)].rename(columns={'index': 'SEX_GP', 0: 'PCT'})\n",
    "test['LABEL'] = test['SEX_GP'] + ' - ' + (test['PCT']*100).round(1).astype(str) + '%'\n",
    "test"
   ]
  },
  {
   "cell_type": "code",
   "execution_count": null,
   "id": "804d6dd0-da99-4333-805e-35baa9deecad",
   "metadata": {},
   "outputs": [],
   "source": [
    "fig, ax = plt.subplots(1,1, figsize=(10, 8))\n",
    "cmap = matplotlib.cm.Purples\n",
    "mini=test['PCT'].min()\n",
    "maxi=test['PCT'].max()\n",
    "norm = matplotlib.colors.Normalize(vmin=mini, vmax=maxi)\n",
    "colors = [cmap(norm(value)) for value in test['PCT']]\n",
    "squarify.plot(sizes=test['PCT'],label=test['LABEL'], alpha=.8, ax=ax)\n",
    "plt.axis('off')\n",
    "plt.show()"
   ]
  },
  {
   "cell_type": "code",
   "execution_count": null,
   "id": "542ffb64-2369-4d92-ba6c-222414dea511",
   "metadata": {},
   "outputs": [],
   "source": []
  }
 ],
 "metadata": {
  "kernelspec": {
   "display_name": "Python 3",
   "language": "python",
   "name": "python3"
  },
  "language_info": {
   "codemirror_mode": {
    "name": "ipython",
    "version": 3
   },
   "file_extension": ".py",
   "mimetype": "text/x-python",
   "name": "python",
   "nbconvert_exporter": "python",
   "pygments_lexer": "ipython3",
   "version": "3.7.10"
  }
 },
 "nbformat": 4,
 "nbformat_minor": 5
}
