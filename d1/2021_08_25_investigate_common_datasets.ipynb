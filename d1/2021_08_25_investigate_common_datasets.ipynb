{
 "cells": [
  {
   "cell_type": "markdown",
   "id": "fd41c1d1-0cb2-465d-a8e7-993a6e3560e4",
   "metadata": {},
   "source": [
    "There are 3 different additional datasets other than the unemployment data that's being used here:\n",
    "- Local County health outcomes (https://catalog.data.gov/dataset/places-local-data-for-better-health-place-data-2020-release)\n",
    "- Vaccine hesitancy and social vulnerability indices(https://data.cdc.gov/Vaccinations/Social-Vulnerability-Index/ypqf-r5qs)\n",
    "- Vaccine Hesitancy"
   ]
  },
  {
   "cell_type": "code",
   "execution_count": null,
   "id": "765a3335-6630-425a-af00-c0fbedc422b0",
   "metadata": {},
   "outputs": [],
   "source": [
    "import pandas as pd\n",
    "import numpy as np\n",
    "import os\n",
    "from datetime import datetime as dt\n",
    "from toolz import thread_first, take\n",
    "import matplotlib.pyplot as plt\n",
    "%matplotlib inline\n",
    "pd.options.display.max_columns=100\n",
    "pd.options.display.max_rows=500\n",
    "\n",
    "pd.options.display.width = 200\n",
    "\n",
    "def printer(data, sample=True, n=5, name=None, pprint=False):\n",
    "    if name:\n",
    "        print(name, data.shape)\n",
    "    else:\n",
    "        print(data.shape)\n",
    "    print('-'*10)\n",
    "    \n",
    "    d = data.sample(min(n, data.shape[0])) if sample else data.head(n)\n",
    "    if pprint:\n",
    "        print(d)\n",
    "    return d"
   ]
  },
  {
   "cell_type": "code",
   "execution_count": null,
   "id": "f5929cae-7435-4716-b69a-26110e06666b",
   "metadata": {},
   "outputs": [],
   "source": [
    "unemploy = pd.read_csv('https://www.bls.gov/web/metro/laucntycur14.txt', \n",
    "            skiprows=5, \n",
    "            sep='|', \n",
    "            header=0, \n",
    "            names=['area_code', 'fips_state_code', 'fips_county_code', 'county', 'month_year', 'civilian_labor_force', 'employed', 'unemployed_level', 'unemployed_rate'],\n",
    "            nrows=45066,\n",
    "            na_values=['-'],\n",
    "            dtype={'fips_state_code': str, 'fips_county_code': str})\n",
    "\n",
    "for col in unemploy:\n",
    "    if unemploy[col].dtype in ('str', 'object'):\n",
    "        unemploy[col] = unemploy[col].str.strip()\n",
    "\n",
    "unemploy[['county', 'state']] = pd.DataFrame(unemploy['county'].str.split(', ').tolist(), columns=['county', 'state'])\n",
    "unemploy['month_year'] = pd.to_datetime(unemploy['month_year'].str.replace('\\(p\\)', ''), format='%b-%y')\n",
    "unemploy['fips'] = unemploy['fips_state_code'] + unemploy['fips_county_code']\n",
    "printer(unemploy)"
   ]
  },
  {
   "cell_type": "code",
   "execution_count": null,
   "id": "8e4f7f86-c25e-4416-b4be-5a9225a220a8",
   "metadata": {},
   "outputs": [],
   "source": [
    "covid_counties = pd.read_csv('inputs/us-counties.csv', dtype={'fips': 'str'})\n",
    "covid_counties['month_year'] = pd.to_datetime(covid_counties['date']).to_numpy().astype('datetime64[M]')\n",
    "covid_counties = covid_counties.groupby(['fips', 'county', 'month_year'], as_index=False).agg({'cases': 'last', 'deaths': 'last'})\n",
    "covid_counties['case_diff'] = covid_counties['cases'] - covid_counties.groupby('fips')['cases'].transform('shift').fillna(0)\n",
    "covid_counties['death_diff'] = covid_counties['deaths'] - covid_counties.groupby('fips')['deaths'].transform('shift').fillna(0)\n",
    "printer(covid_counties, sample=False, n=20)"
   ]
  },
  {
   "cell_type": "code",
   "execution_count": null,
   "id": "58030726-fd8a-4e42-ab1f-e40f710b537a",
   "metadata": {},
   "outputs": [],
   "source": [
    "merged = unemploy[['fips', 'month_year', 'county', 'civilian_labor_force', 'employed', 'unemployed_level', 'unemployed_rate', 'state']]\\\n",
    ".merge(covid_counties, how='outer', on=['fips', 'month_year'], indicator=True, suffixes=['_full', ''])\n",
    "merged"
   ]
  },
  {
   "cell_type": "code",
   "execution_count": null,
   "id": "54396731-fbf2-4d91-9cd9-316f6954ae0e",
   "metadata": {},
   "outputs": [],
   "source": [
    "rand = np.random.choice(merged.fips.unique())\n",
    "name = merged.loc[merged.fips == rand].county.iloc[0] + ', ' + merged.loc[merged.fips == rand].state.iloc[0]\n",
    "merged.loc[(merged.fips == rand)]\\\n",
    ".assign(unemployed_count = lambda x: pd.to_numeric(x.unemployed_level.str.replace(',', '')))\\\n",
    ".plot(x='month_year', y=['unemployed_count', 'case_diff'], kind='line', figsize=(20, 10), title=name)"
   ]
  },
  {
   "cell_type": "code",
   "execution_count": null,
   "id": "b1f08ee8-7452-4d52-94a9-56235935ff3d",
   "metadata": {},
   "outputs": [],
   "source": [
    "rename = {\n",
    "    'Binge drinking among adults aged >=18 years': 'binge_drinking_pct',\n",
    "    'Current lack of health insurance among adults aged 18-64 years': 'lack_health_insurance_pct', \n",
    "    'Mental health not good for >=14 days among adults aged >=18 years': 'poor_mental_health_pct', \n",
    "    'No leisure-time physical activity among adults aged >=18 years': 'no_leisure_time_pct', \n",
    "    'Sleeping less than 7 hours among adults aged >=18 years': 'bad_sleep_pct'\n",
    "}\n",
    "\n",
    "outcomes = pd.read_csv('inputs/places-local-outcomes.csv')\n",
    "outcomes = outcomes.loc[outcomes.LocationName.notnull()]\n",
    "keep = ['Mental Health', 'Sleep <7 hours', 'Physical Inactivity', 'Health Insurance', 'Binge Drinking']\n",
    "outcomes = outcomes.loc[outcomes.Short_Question_Text.isin(keep) & (outcomes.Year == 2018)]\\\n",
    ".rename(columns={'StateAbbr': 'state', 'LocationName': 'county', 'Measure': 'measure_name', 'Data_Value': 'value'})\\\n",
    ".pivot_table(index=['state', 'county'], columns=['measure_name'], values='value')\\\n",
    ".reset_index()\\\n",
    ".rename(columns=rename)\n",
    "outcomes['county'] = np.where(outcomes['state'] == 'LA', outcomes['county'] + ' Parish', outcomes['county'])\n",
    "outcomes['county'] = np.where(outcomes['state'] == 'VA', outcomes['county'] + ' City', outcomes['county'])\n",
    "outcomes['county'] = outcomes['county'].str.replace(' city City', ' City').str.replace('City City', 'City')\n",
    "outcomes['county'] = np.where(outcomes['state'] == 'AK', outcomes['county'].apply(lambda x: x.split(' ')[0]), outcomes['county'])\n",
    "printer(outcomes)"
   ]
  },
  {
   "cell_type": "code",
   "execution_count": null,
   "id": "c687feb3-4f4c-4f40-955b-116511529e2d",
   "metadata": {
    "tags": []
   },
   "outputs": [],
   "source": [
    "care_about = {'FIPS Code': 'fips', \n",
    "                                  'County Name': 'county', \n",
    "                                  'Estimated hesitant': 'estimated_hesitant', \n",
    "                                  'Estimated hesitant or unsure': 'estimated_hesitant_unsure',\n",
    "                                  'Social Vulnerability Index (SVI)': 'social_vulnerability_index',\n",
    "                                 'SVI Category': 'svi_category',\n",
    "                                 'CVAC level of concern for vaccination rollout': 'cvac_level_of_concern', \n",
    "                                 'Percent adults fully vaccinated against COVID-19 (as of 6/10/21)': 'percent_adults_vaccinated_by_jun_2021',\n",
    "                                 'State Code': 'state'}\n",
    "vaccine = pd.read_csv('inputs/vaccine-hesitation.csv', dtype={'FIPS Code': 'str'}, usecols=care_about.keys())\n",
    "vaccine = vaccine.rename(columns=care_about)\n",
    "vaccine['fips'] = vaccine['fips'].str.zfill(5)\n",
    "vaccine[['county', 'state_full_name']] = pd.DataFrame(vaccine['county'].str.split(', ').tolist(), columns=['county', 'state_full_name'])\n",
    "vaccine['county'] = vaccine['county'].str.replace(' County', '').str.replace(' city', ' City')\n",
    "vaccine['county'] = np.where(vaccine['state'] == 'VA', vaccine['county'] + ' City', vaccine['county'])\n",
    "vaccine['county'] = vaccine['county'].str.replace(' city City', ' City').str.replace('City City', 'City')\n",
    "vaccine['county'] = np.where(vaccine['state'] == 'AK', vaccine['county'].apply(lambda x: x.split(' ')[0]), vaccine['county'])\n",
    "vaccine['county'] = np.where(vaccine['fips'] == '35013', 'Doña Ana', vaccine['county'])\n",
    "vaccine.loc[(vaccine.state == 'VA')].head()"
   ]
  },
  {
   "cell_type": "code",
   "execution_count": null,
   "id": "64f2103b-48f4-41e7-a0a9-94e77850963a",
   "metadata": {},
   "outputs": [],
   "source": [
    "updated = vaccine.merge(outcomes, how='outer', on=['state', 'county'])\\\n",
    ".drop(['county', 'state'], axis=1)\\\n",
    ".merge(merged, how='outer', on='fips')\\\n",
    ".query(\"_merge == 'both'\")\\\n",
    ".drop('_merge', axis=1)\n",
    "\n",
    "printer(updated)"
   ]
  },
  {
   "cell_type": "code",
   "execution_count": null,
   "id": "d1a2a03c-3cba-4887-95af-3ab11794cf89",
   "metadata": {},
   "outputs": [],
   "source": [
    "agg = {\n",
    "    'estimated_hesitant': 'mean',\n",
    "    'estimated_hesitant_unsure': 'mean',\n",
    "    'social_vulnerability_index': 'mean',\n",
    "    'svi_category': 'first',\n",
    "    'cvac_level_of_concern': 'mean',\n",
    "    'percent_adults_vaccinated_by_jun_2021': 'mean',\n",
    "    'binge_drinking_pct': 'mean',\n",
    "    'lack_health_insurance_pct': 'mean',\n",
    "    'poor_mental_health_pct': 'mean',\n",
    "    'no_leisure_time_pct': 'mean', \n",
    "    'bad_sleep_pct': 'mean',\n",
    "    'unemployed_rate': 'mean',\n",
    "    'case_diff': 'mean',\n",
    "    'death_diff': 'mean',\n",
    "}\n",
    "updated['svi_category'] = updated['svi_category'].copy().replace({'High Vulnerability': '2-High Vulnerability',\n",
    "                                                      'Very High Vulnerability': '1-Very High Vulnerability',\n",
    "                                                      'Moderate Vulnerability': '3-Moderate Vulnerability',\n",
    "                                                     'Low Vulnerability': '4-Low Vulnerability',\n",
    "                                                     'Very Low Vulnerability': '5-Very Low Vulnerability'})\n",
    "updated['svi_simple'] = updated['svi_category'].copy().replace({'High Vulnerability': '1-High',\n",
    "                                                      'Very High Vulnerability': '1-High',\n",
    "                                                      'Moderate Vulnerability': '2-Medium',\n",
    "                                                     'Low Vulnerability': '3-Low',\n",
    "                                                     'Very Low Vulnerability': '3-Low'})\n",
    "group_by = 'svi_category'\n",
    "overall_month = updated.groupby([group_by, 'month_year'], as_index=False).agg(agg)\n",
    "overall_county = updated.groupby([group_by, 'county'], as_index=False).agg(agg)\n",
    "overall_state= updated.groupby([group_by, 'state'], as_index=False).agg(agg)"
   ]
  },
  {
   "cell_type": "code",
   "execution_count": null,
   "id": "7d34841d-1d66-4c47-a732-66b759ff64d0",
   "metadata": {},
   "outputs": [],
   "source": [
    "fig, ax = plt.subplots(1, figsize=(15, 8))\n",
    "pal = sns.color_palette(\"rocket_r\", as_cmap=True)\n",
    "# sns.diverging_palette(250, 30, l=65, center=\"dark\", as_cmap=True)\n",
    "# sns.color_palette(\"coolwarm\", as_cmap=True)\n",
    "# sns.color_palette(\"crest\", as_cmap=True)\n",
    "sns.scatterplot(data=overall_county.query(\"case_diff < 50000\").sort_values('svi_simple'), x='svi_simple', y='case_diff', hue='lack_health_insurance_pct', size='case_diff', \n",
    "                hue_norm=(0, updated['unemployed_rate'].max()), ax=ax, palette=pal)"
   ]
  },
  {
   "cell_type": "code",
   "execution_count": null,
   "id": "8a8d22f9-fd20-400b-bd02-0ef6f385f8ed",
   "metadata": {},
   "outputs": [],
   "source": [
    "fig, ax = plt.subplots(1, figsize=(30, 10))\n",
    "sns.lineplot(data=overall_month, x='month_year', y='death_diff', hue='svi_category', palette=\"rocket\", sort=True, ax=ax)"
   ]
  },
  {
   "cell_type": "code",
   "execution_count": null,
   "id": "4607f112-cab5-44e9-b99c-61aaa2557973",
   "metadata": {},
   "outputs": [],
   "source": [
    "fig, ax = plt.subplots(1, figsize=(30, 10))\n",
    "sns.lineplot(data=overall_month.assign(unemployed_rate = lambda x: x['unemployed_rate'].fillna(0) / 100), \n",
    "             x='month_year', y='case_diff', hue='lack_health_insurance_pct', sort=True, ax=ax)"
   ]
  }
 ],
 "metadata": {
  "kernelspec": {
   "display_name": "Python 3",
   "language": "python",
   "name": "python3"
  },
  "language_info": {
   "codemirror_mode": {
    "name": "ipython",
    "version": 3
   },
   "file_extension": ".py",
   "mimetype": "text/x-python",
   "name": "python",
   "nbconvert_exporter": "python",
   "pygments_lexer": "ipython3",
   "version": "3.7.10"
  }
 },
 "nbformat": 4,
 "nbformat_minor": 5
}
